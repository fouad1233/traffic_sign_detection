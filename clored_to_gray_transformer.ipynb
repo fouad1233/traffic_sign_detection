{
 "cells": [
  {
   "cell_type": "code",
   "execution_count": 1,
   "metadata": {},
   "outputs": [],
   "source": [
    "import os\n",
    "from PIL import Image\n",
    "\n",
    "# Define the paths\n",
    "input_folder = 'main_images_colored'\n",
    "output_folder = 'main_images_gray'\n",
    "\n",
    "# Create the output folder if it doesn't exist\n",
    "if not os.path.exists(output_folder):\n",
    "    os.makedirs(output_folder)\n",
    "\n",
    "# Walk through the input folder\n",
    "for root, dirs, files in os.walk(input_folder):\n",
    "    for file in files:\n",
    "        if file.endswith(('png', 'jpg', 'jpeg', 'bmp', 'gif')):\n",
    "            # Construct the full file path\n",
    "            file_path = os.path.join(root, file)\n",
    "            # Open the image\n",
    "            with Image.open(file_path) as img:\n",
    "                # Convert the image to grayscale\n",
    "                gray_img = img.convert('L')\n",
    "                # Construct the output path\n",
    "                relative_path = os.path.relpath(root, input_folder)\n",
    "                output_path = os.path.join(output_folder, relative_path)\n",
    "                # Create the output directory if it doesn't exist\n",
    "                if not os.path.exists(output_path):\n",
    "                    os.makedirs(output_path)\n",
    "                # Save the grayscale image\n",
    "                gray_img.save(os.path.join(output_path, file))"
   ]
  },
  {
   "cell_type": "code",
   "execution_count": null,
   "metadata": {},
   "outputs": [],
   "source": []
  }
 ],
 "metadata": {
  "kernelspec": {
   "display_name": "Python 3",
   "language": "python",
   "name": "python3"
  },
  "language_info": {
   "codemirror_mode": {
    "name": "ipython",
    "version": 3
   },
   "file_extension": ".py",
   "mimetype": "text/x-python",
   "name": "python",
   "nbconvert_exporter": "python",
   "pygments_lexer": "ipython3",
   "version": "3.11.10"
  }
 },
 "nbformat": 4,
 "nbformat_minor": 2
}
